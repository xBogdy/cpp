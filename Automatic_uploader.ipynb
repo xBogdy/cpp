{
  "nbformat": 4,
  "nbformat_minor": 0,
  "metadata": {
    "colab": {
      "name": "Automatic uploader.ipynb",
      "provenance": [],
      "collapsed_sections": [],
      "mount_file_id": "1Ky4R8W3njFkhvud7iSMczrj9AwpnFw4d",
      "authorship_tag": "ABX9TyMeVo5Xj7jc/ueS7gPlNscQ",
      "include_colab_link": true
    },
    "kernelspec": {
      "name": "python3",
      "display_name": "Python 3"
    },
    "language_info": {
      "name": "python"
    }
  },
  "cells": [
    {
      "cell_type": "markdown",
      "metadata": {
        "id": "view-in-github",
        "colab_type": "text"
      },
      "source": [
        "<a href=\"https://colab.research.google.com/github/xBogdy/cpp/blob/main/Automatic_uploader.ipynb\" target=\"_parent\"><img src=\"https://colab.research.google.com/assets/colab-badge.svg\" alt=\"Open In Colab\"/></a>"
      ]
    },
    {
      "cell_type": "code",
      "metadata": {
        "colab": {
          "base_uri": "https://localhost:8080/"
        },
        "id": "NplTVNDpAfgy",
        "outputId": "3202e491-19a8-4315-ba61-76ce65cb3050"
      },
      "source": [
        "import os\n",
        "from pytube import YouTube\n",
        "import gspread\n",
        "from oauth2client.service_account import ServiceAccountCredentials\n",
        "from pydrive.auth import GoogleAuth\n",
        "from pydrive.drive import GoogleDrive\n",
        "import gdown\n",
        "import time\n",
        "\n",
        "def get_links():\n",
        "  # For getting all links at the start\n",
        "    scope = [\"https://spreadsheets.google.com/feeds\", 'https://www.googleapis.com/auth/spreadsheets',\n",
        "             \"https://www.googleapis.com/auth/drive.file\", \"https://www.googleapis.com/auth/drive\"]\n",
        "    creds = ServiceAccountCredentials.from_json_keyfile_name('client_secret.json', scope)\n",
        "    client = gspread.authorize(creds)\n",
        "    sheet = client.open('Dubbing List').sheet1\n",
        "\n",
        "    list_of_links = sheet.col_values(7)\n",
        "    list_of_links.__delitem__(0)\n",
        "    return list_of_links\n",
        "\n",
        "\n",
        "def download_vids():\n",
        "    scope = [\"https://spreadsheets.google.com/feeds\", 'https://www.googleapis.com/auth/spreadsheets',\n",
        "             \"https://www.googleapis.com/auth/drive.file\", \"https://www.googleapis.com/auth/drive\"]\n",
        "    creds = ServiceAccountCredentials.from_json_keyfile_name('client_secret.json', scope)\n",
        "    client = gspread.authorize(creds)\n",
        "    sheet = client.open('Dubbing List').sheet1\n",
        "\n",
        "    for x in range(len(sheet.col_values(8))):\n",
        "        if sheet.cell(row=x + 1, col=8).value.__str__() == 'Not':\n",
        "            print(\"Missing video for # \" + (x).__str__())\n",
        "            print(\"downloading \" + x.__str__())\n",
        "            # Downloads directly to shared folder (access to everyone within the folder)\n",
        "            YouTube(sheet.cell(row=x+1,col=7).value).streams.filter(res=\"720p\").first().download(output_path=\"drive/MyDrive/sharedVideos/Videos/\", filename_prefix=' ')\n",
        "            print(\"done \" + x.__str__())\n",
        "            sheet.update_cell(row=x + 1, col=8, value=\"Done\")\n",
        "            \n",
        "\n",
        "if __name__ == '__main__':\n",
        "    download_vids()"
      ],
      "execution_count": null,
      "outputs": [
        {
          "output_type": "stream",
          "text": [
            "Missing video for # 41\n",
            "downloading 41\n",
            "done 41\n",
            "Missing video for # 42\n",
            "downloading 42\n",
            "done 42\n",
            "Missing video for # 43\n",
            "downloading 43\n",
            "done 43\n",
            "Missing video for # 45\n",
            "downloading 45\n",
            "done 45\n",
            "Missing video for # 46\n",
            "downloading 46\n",
            "done 46\n",
            "Missing video for # 47\n",
            "downloading 47\n",
            "done 47\n",
            "Missing video for # 48\n",
            "downloading 48\n",
            "done 48\n",
            "Missing video for # 49\n",
            "downloading 49\n",
            "done 49\n",
            "Missing video for # 50\n",
            "downloading 50\n",
            "done 50\n",
            "Missing video for # 51\n",
            "downloading 51\n",
            "done 51\n",
            "Missing video for # 52\n",
            "downloading 52\n",
            "done 52\n",
            "Missing video for # 53\n",
            "downloading 53\n",
            "done 53\n",
            "Missing video for # 54\n",
            "downloading 54\n",
            "done 54\n",
            "Missing video for # 55\n",
            "downloading 55\n",
            "done 55\n",
            "Missing video for # 56\n",
            "downloading 56\n",
            "done 56\n",
            "Missing video for # 57\n",
            "downloading 57\n",
            "done 57\n",
            "Missing video for # 58\n",
            "downloading 58\n",
            "done 58\n",
            "Missing video for # 59\n",
            "downloading 59\n",
            "done 59\n",
            "Missing video for # 60\n",
            "downloading 60\n",
            "done 60\n",
            "Missing video for # 61\n",
            "downloading 61\n",
            "done 61\n",
            "Missing video for # 62\n",
            "downloading 62\n",
            "done 62\n",
            "Missing video for # 63\n",
            "downloading 63\n",
            "done 63\n",
            "Missing video for # 64\n",
            "downloading 64\n"
          ],
          "name": "stdout"
        }
      ]
    },
    {
      "cell_type": "code",
      "metadata": {
        "id": "agGAn6h6Y4fL"
      },
      "source": [
        "!pip install pytube"
      ],
      "execution_count": null,
      "outputs": []
    }
  ]
}